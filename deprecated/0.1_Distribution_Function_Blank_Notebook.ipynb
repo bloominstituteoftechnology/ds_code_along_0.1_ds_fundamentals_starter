{
  "cells": [
    {
      "cell_type": "markdown",
      "id": "e8219ab4",
      "metadata": {
        "id": "e8219ab4"
      },
      "source": [
        "# Orientation Code-Along"
      ]
    },
    {
      "cell_type": "code",
      "execution_count": null,
      "id": "d647dfb8",
      "metadata": {
        "id": "d647dfb8"
      },
      "outputs": [],
      "source": [
        "#import the necessary packages: \n"
      ]
    },
    {
      "cell_type": "code",
      "execution_count": null,
      "id": "b225005e",
      "metadata": {
        "id": "b225005e"
      },
      "outputs": [],
      "source": [
        "#import the dataset you wish to use, in this example we will use seaborn's mpg dataset\n"
      ]
    },
    {
      "cell_type": "code",
      "execution_count": null,
      "id": "dd2d0790",
      "metadata": {
        "id": "dd2d0790"
      },
      "outputs": [],
      "source": [
        "#display the first five rows\n"
      ]
    },
    {
      "cell_type": "code",
      "source": [
        "\n",
        "#display you quantitative columns \n"
      ],
      "metadata": {
        "id": "C6LQ6B7oNPhB"
      },
      "id": "C6LQ6B7oNPhB",
      "execution_count": null,
      "outputs": []
    },
    {
      "cell_type": "code",
      "execution_count": null,
      "id": "d6769c8a",
      "metadata": {
        "id": "d6769c8a"
      },
      "outputs": [],
      "source": [
        "#use sns.displot to create a histogram\n"
      ]
    },
    {
      "cell_type": "code",
      "execution_count": null,
      "id": "40c7c1d7",
      "metadata": {
        "id": "40c7c1d7"
      },
      "outputs": [],
      "source": [
        "#use sns.boxplot to create a boxplot\n"
      ]
    },
    {
      "cell_type": "code",
      "execution_count": null,
      "id": "595ae65c",
      "metadata": {
        "id": "595ae65c"
      },
      "outputs": [],
      "source": [
        "#display the summary statistics using pandas\n"
      ]
    },
    {
      "cell_type": "code",
      "execution_count": null,
      "id": "4314b2a6",
      "metadata": {
        "id": "4314b2a6"
      },
      "outputs": [],
      "source": [
        "def show_and_tell(df_name, column_name, display_dataframe=True):\n",
        "    '''\n",
        "    Function will return the five point statistics for any pandas column, \n",
        "    along with visualizations to measure distributions.\n",
        "    '''\n",
        "    #imports\n",
        "\n",
        "    #adjust the fig parameters\n",
        "    \n",
        "    #create the first and second subplot with matplotlib\n",
        "\n",
        "    #display the summary statistics \n"
      ]
    },
    {
      "cell_type": "code",
      "execution_count": null,
      "id": "19834f68",
      "metadata": {
        "id": "19834f68"
      },
      "outputs": [],
      "source": [
        "#test your function, use different features\n"
      ]
    },
    {
      "cell_type": "code",
      "execution_count": null,
      "id": "f4eeb2dc",
      "metadata": {
        "id": "f4eeb2dc"
      },
      "outputs": [],
      "source": [
        "#display a result for .quantile()\n"
      ]
    },
    {
      "cell_type": "code",
      "execution_count": null,
      "id": "d70cb692",
      "metadata": {
        "id": "d70cb692"
      },
      "outputs": [],
      "source": [
        "#create a function that takes a Pandas Series and displays any outliers.\n",
        "\n"
      ]
    },
    {
      "cell_type": "code",
      "execution_count": null,
      "id": "629ee186",
      "metadata": {
        "id": "629ee186"
      },
      "outputs": [],
      "source": [
        "#test the function with a manually-built Pandas Series\n"
      ]
    },
    {
      "cell_type": "code",
      "execution_count": null,
      "id": "c8e3d636",
      "metadata": {
        "id": "c8e3d636"
      },
      "outputs": [],
      "source": [
        "#integrate the find_outliers_IQR into the above function\n",
        "\n"
      ]
    },
    {
      "cell_type": "code",
      "execution_count": null,
      "id": "c0905771",
      "metadata": {
        "id": "c0905771"
      },
      "outputs": [],
      "source": [
        "#test the new function with different variables\n"
      ]
    },
    {
      "cell_type": "code",
      "source": [
        "#some additional conditions\n"
      ],
      "metadata": {
        "id": "SJscvke0XLwl"
      },
      "id": "SJscvke0XLwl",
      "execution_count": null,
      "outputs": []
    },
    {
      "cell_type": "code",
      "execution_count": null,
      "id": "3383a4d1",
      "metadata": {
        "id": "3383a4d1"
      },
      "outputs": [],
      "source": [
        "#Display a clarifying message if there are no outliers\n"
      ]
    },
    {
      "cell_type": "markdown",
      "source": [
        "### Test with Different Columns in the Second Parameter\n",
        "- 'mpg'\n",
        "- 'weight'\n",
        "- 'displacement'"
      ],
      "metadata": {
        "id": "2f5Q88U1PEst"
      },
      "id": "2f5Q88U1PEst"
    },
    {
      "cell_type": "code",
      "execution_count": null,
      "id": "2da40db8",
      "metadata": {
        "colab": {
          "base_uri": "https://localhost:8080/",
          "height": 902
        },
        "id": "2da40db8",
        "outputId": "b13292cc-f576-4c05-a765-c383d932e4c2"
      },
      "outputs": [
        {
          "output_type": "display_data",
          "data": {
            "text/plain": [
              "<Figure size 1600x640 with 2 Axes>"
            ],
            "image/png": "[encoded data removed]"
          },
          "metadata": {}
        },
        {
          "output_type": "display_data",
          "data": {
            "text/plain": [
              "              mpg\n",
              "count  398.000000\n",
              "mean    23.514573\n",
              "std      7.815984\n",
              "min      9.000000\n",
              "25%     17.500000\n",
              "50%     23.000000\n",
              "75%     29.000000\n",
              "max     46.600000"
            ],
            "text/html": [
              "\n",
              "  <div id=\"df-f35d1592-099c-47e8-88a7-308b78c69b0b\">\n",
              "    <div class=\"colab-df-container\">\n",
              "      <div>\n",
              "<style scoped>\n",
              "    .dataframe tbody tr th:only-of-type {\n",
              "        vertical-align: middle;\n",
              "    }\n",
              "\n",
              "    .dataframe tbody tr th {\n",
              "        vertical-align: top;\n",
              "    }\n",
              "\n",
              "    .dataframe thead th {\n",
              "        text-align: right;\n",
              "    }\n",
              "</style>\n",
              "<table border=\"1\" class=\"dataframe\">\n",
              "  <thead>\n",
              "    <tr style=\"text-align: right;\">\n",
              "      <th></th>\n",
              "      <th>mpg</th>\n",
              "    </tr>\n",
              "  </thead>\n",
              "  <tbody>\n",
              "    <tr>\n",
              "      <th>count</th>\n",
              "      <td>398.000000</td>\n",
              "    </tr>\n",
              "    <tr>\n",
              "      <th>mean</th>\n",
              "      <td>23.514573</td>\n",
              "    </tr>\n",
              "    <tr>\n",
              "      <th>std</th>\n",
              "      <td>7.815984</td>\n",
              "    </tr>\n",
              "    <tr>\n",
              "      <th>min</th>\n",
              "      <td>9.000000</td>\n",
              "    </tr>\n",
              "    <tr>\n",
              "      <th>25%</th>\n",
              "      <td>17.500000</td>\n",
              "    </tr>\n",
              "    <tr>\n",
              "      <th>50%</th>\n",
              "      <td>23.000000</td>\n",
              "    </tr>\n",
              "    <tr>\n",
              "      <th>75%</th>\n",
              "      <td>29.000000</td>\n",
              "    </tr>\n",
              "    <tr>\n",
              "      <th>max</th>\n",
              "      <td>46.600000</td>\n",
              "    </tr>\n",
              "  </tbody>\n",
              "</table>\n",
              "</div>\n",
              "      <button class=\"colab-df-convert\" onclick=\"convertToInteractive('df-f35d1592-099c-47e8-88a7-308b78c69b0b')\"\n",
              "              title=\"Convert this dataframe to an interactive table.\"\n",
              "              style=\"display:none;\">\n",
              "        \n",
              "  <svg xmlns=\"http://www.w3.org/2000/svg\" height=\"24px\"viewBox=\"0 0 24 24\"\n",
              "       width=\"24px\">\n",
              "    <path d=\"M0 0h24v24H0V0z\" fill=\"none\"/>\n",
              "    <path d=\"M18.56 5.44l.94 2.06.94-2.06 2.06-.94-2.06-.94-.94-2.06-.94 2.06-2.06.94zm-11 1L8.5 8.5l.94-2.06 2.06-.94-2.06-.94L8.5 2.5l-.94 2.06-2.06.94zm10 10l.94 2.06.94-2.06 2.06-.94-2.06-.94-.94-2.06-.94 2.06-2.06.94z\"/><path d=\"M17.41 7.96l-1.37-1.37c-.4-.4-.92-.59-1.43-.59-.52 0-1.04.2-1.43.59L10.3 9.45l-7.72 7.72c-.78.78-.78 2.05 0 2.83L4 21.41c.39.39.9.59 1.41.59.51 0 1.02-.2 1.41-.59l7.78-7.78 2.81-2.81c.8-.78.8-2.07 0-2.86zM5.41 20L4 18.59l7.72-7.72 1.47 1.35L5.41 20z\"/>\n",
              "  </svg>\n",
              "      </button>\n",
              "      \n",
              "  <style>\n",
              "    .colab-df-container {\n",
              "      display:flex;\n",
              "      flex-wrap:wrap;\n",
              "      gap: 12px;\n",
              "    }\n",
              "\n",
              "    .colab-df-convert {\n",
              "      background-color: #E8F0FE;\n",
              "      border: none;\n",
              "      border-radius: 50%;\n",
              "      cursor: pointer;\n",
              "      display: none;\n",
              "      fill: #1967D2;\n",
              "      height: 32px;\n",
              "      padding: 0 0 0 0;\n",
              "      width: 32px;\n",
              "    }\n",
              "\n",
              "    .colab-df-convert:hover {\n",
              "      background-color: #E2EBFA;\n",
              "      box-shadow: 0px 1px 2px rgba(60, 64, 67, 0.3), 0px 1px 3px 1px rgba(60, 64, 67, 0.15);\n",
              "      fill: #174EA6;\n",
              "    }\n",
              "\n",
              "    [theme=dark] .colab-df-convert {\n",
              "      background-color: #3B4455;\n",
              "      fill: #D2E3FC;\n",
              "    }\n",
              "\n",
              "    [theme=dark] .colab-df-convert:hover {\n",
              "      background-color: #434B5C;\n",
              "      box-shadow: 0px 1px 3px 1px rgba(0, 0, 0, 0.15);\n",
              "      filter: drop-shadow(0px 1px 2px rgba(0, 0, 0, 0.3));\n",
              "      fill: #FFFFFF;\n",
              "    }\n",
              "  </style>\n",
              "\n",
              "      <script>\n",
              "        const buttonEl =\n",
              "          document.querySelector('#df-f35d1592-099c-47e8-88a7-308b78c69b0b button.colab-df-convert');\n",
              "        buttonEl.style.display =\n",
              "          google.colab.kernel.accessAllowed ? 'block' : 'none';\n",
              "\n",
              "        async function convertToInteractive(key) {\n",
              "          const element = document.querySelector('#df-f35d1592-099c-47e8-88a7-308b78c69b0b');\n",
              "          const dataTable =\n",
              "            await google.colab.kernel.invokeFunction('convertToInteractive',\n",
              "                                                     [key], {});\n",
              "          if (!dataTable) return;\n",
              "\n",
              "          const docLinkHtml = 'Like what you see? Visit the ' +\n",
              "            '<a target=\"_blank\" href=https://colab.research.google.com/notebooks/data_table.ipynb>data table notebook</a>'\n",
              "            + ' to learn more about interactive tables.';\n",
              "          element.innerHTML = '';\n",
              "          dataTable['output_type'] = 'display_data';\n",
              "          await google.colab.output.renderOutput(dataTable, element);\n",
              "          const docLink = document.createElement('div');\n",
              "          docLink.innerHTML = docLinkHtml;\n",
              "          element.appendChild(docLink);\n",
              "        }\n",
              "      </script>\n",
              "    </div>\n",
              "  </div>\n",
              "  "
            ]
          },
          "metadata": {}
        },
        {
          "output_type": "stream",
          "name": "stdout",
          "text": [
            "\n",
            "Outlier Values:  [46.6]\n"
          ]
        }
      ],
      "source": [
        "show_and_tell(autos, 'mpg')"
      ]
    }
  ],
  "metadata": {
    "kernelspec": {
      "display_name": "Python 3",
      "language": "python",
      "name": "python3"
    },
    "language_info": {
      "codemirror_mode": {
        "name": "ipython",
        "version": 3
      },
      "file_extension": ".py",
      "mimetype": "text/x-python",
      "name": "python",
      "nbconvert_exporter": "python",
      "pygments_lexer": "ipython3",
      "version": "3.8.8"
    },
    "colab": {
      "name": "Distribution_Function_Code-Along_Learner_Facing_Notebook.ipynb",
      "provenance": [],
      "collapsed_sections": []
    }
  },
  "nbformat": 4,
  "nbformat_minor": 5
}