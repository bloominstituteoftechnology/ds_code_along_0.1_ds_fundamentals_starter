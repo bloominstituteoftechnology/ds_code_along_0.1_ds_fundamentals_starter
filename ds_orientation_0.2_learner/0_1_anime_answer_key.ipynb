{
  "nbformat": 4,
  "nbformat_minor": 0,
  "metadata": {
    "colab": {
      "name": "0.1_anime_answer_key",
      "provenance": []
    },
    "kernelspec": {
      "name": "python3",
      "display_name": "Python 3"
    },
    "language_info": {
      "name": "python"
    }
  },
  "cells": [
    {
      "cell_type": "code",
      "execution_count": 1,
      "metadata": {
        "id": "ymP8FWIBac2o"
      },
      "outputs": [],
      "source": [
        "import pandas as pd"
      ]
    },
    {
      "cell_type": "code",
      "source": [
        "df = pd.read_csv('dataanime.csv')"
      ],
      "metadata": {
        "id": "oNjHTZKebzIz"
      },
      "execution_count": 3,
      "outputs": []
    },
    {
      "cell_type": "code",
      "source": [
        "df.head()"
      ],
      "metadata": {
        "colab": {
          "base_uri": "https://localhost:8080/",
          "height": 582
        },
        "id": "pLLMFri_b15j",
        "outputId": "53f07207-ed96-480f-8173-a156f092b9f1"
      },
      "execution_count": 4,
      "outputs": [
        {
          "output_type": "execute_result",
          "data": {
            "text/plain": [
              "                              Title   Type Episodes            Status  \\\n",
              "0  Fullmetal Alchemist: Brotherhood     TV       64   Finished Airing   \n",
              "1                    Kimi no Na wa.  Movie        1   Finished Airing   \n",
              "2                          Gintama°     TV       51   Finished Airing   \n",
              "3                     Steins;Gate 0     TV       23  Currently Airing   \n",
              "4                       Steins;Gate     TV       24   Finished Airing   \n",
              "\n",
              "  Start airing End airing Starting season             Broadcast time  \\\n",
              "0     2009-4-5   2010-7-4          Spring     Sundays at 17:00 (JST)   \n",
              "1    2016-8-26          -               -                          -   \n",
              "2     2015-4-8  2016-3-30          Spring  Wednesdays at 18:00 (JST)   \n",
              "3    2018-4-12          -          Spring   Thursdays at 01:35 (JST)   \n",
              "4     2011-4-6  2011-9-14          Spring  Wednesdays at 02:05 (JST)   \n",
              "\n",
              "                                           Producers  \\\n",
              "0  Aniplex,Square Enix,Mainichi Broadcasting Syst...   \n",
              "1  Kadokawa Shoten,Toho,Sound Team Don Juan,Lawso...   \n",
              "2                            TV Tokyo,Aniplex,Dentsu   \n",
              "3                                          Nitroplus   \n",
              "4  Frontier Works,Media Factory,Movic,AT-X,Kadoka...   \n",
              "\n",
              "                       Licensors                Studios       Sources  \\\n",
              "0  Funimation,Aniplex of America                  Bones         Manga   \n",
              "1           Funimation,NYAV Post       CoMix Wave Films      Original   \n",
              "2         Funimation,Crunchyroll  Bandai Namco Pictures         Manga   \n",
              "3                     Funimation              White Fox  Visual novel   \n",
              "4                     Funimation              White Fox  Visual novel   \n",
              "\n",
              "                                              Genres         Duration Rating  \\\n",
              "0  Action,Military,Adventure,Comedy,Drama,Magic,F...  24 min. per ep.      R   \n",
              "1                  Supernatural,Drama,Romance,School    1 hr. 46 min.  PG-13   \n",
              "2  Action,Comedy,Historical,Parody,Samurai,Sci-Fi...  24 min. per ep.      R   \n",
              "3                                    Sci-Fi,Thriller  23 min. per ep.  PG-13   \n",
              "4                                    Sci-Fi,Thriller  24 min. per ep.  PG-13   \n",
              "\n",
              "   Score  Scored by  Members  Favorites  \\\n",
              "0   9.25     719706  1176368     105387   \n",
              "1   9.19     454969   705186      33936   \n",
              "2   9.16      70279   194359       5597   \n",
              "3   9.16      12609   186331       1117   \n",
              "4   9.14     552791   990419      90365   \n",
              "\n",
              "                                         Description  \n",
              "0  \"In order for something to be obtained, someth...  \n",
              "1  Mitsuha Miyamizu, a high school girl, yearns t...  \n",
              "2  Gintoki, Shinpachi, and Kagura return as the f...  \n",
              "3  The dark untold story of Steins;Gate that lead...  \n",
              "4  The self-proclaimed mad scientist Rintarou Oka...  "
            ],
            "text/html": [
              "\n",
              "  <div id=\"df-2ca9af64-4e43-4849-ac0f-0c02bf0c8dd8\">\n",
              "    <div class=\"colab-df-container\">\n",
              "      <div>\n",
              "<style scoped>\n",
              "    .dataframe tbody tr th:only-of-type {\n",
              "        vertical-align: middle;\n",
              "    }\n",
              "\n",
              "    .dataframe tbody tr th {\n",
              "        vertical-align: top;\n",
              "    }\n",
              "\n",
              "    .dataframe thead th {\n",
              "        text-align: right;\n",
              "    }\n",
              "</style>\n",
              "<table border=\"1\" class=\"dataframe\">\n",
              "  <thead>\n",
              "    <tr style=\"text-align: right;\">\n",
              "      <th></th>\n",
              "      <th>Title</th>\n",
              "      <th>Type</th>\n",
              "      <th>Episodes</th>\n",
              "      <th>Status</th>\n",
              "      <th>Start airing</th>\n",
              "      <th>End airing</th>\n",
              "      <th>Starting season</th>\n",
              "      <th>Broadcast time</th>\n",
              "      <th>Producers</th>\n",
              "      <th>Licensors</th>\n",
              "      <th>Studios</th>\n",
              "      <th>Sources</th>\n",
              "      <th>Genres</th>\n",
              "      <th>Duration</th>\n",
              "      <th>Rating</th>\n",
              "      <th>Score</th>\n",
              "      <th>Scored by</th>\n",
              "      <th>Members</th>\n",
              "      <th>Favorites</th>\n",
              "      <th>Description</th>\n",
              "    </tr>\n",
              "  </thead>\n",
              "  <tbody>\n",
              "    <tr>\n",
              "      <th>0</th>\n",
              "      <td>Fullmetal Alchemist: Brotherhood</td>\n",
              "      <td>TV</td>\n",
              "      <td>64</td>\n",
              "      <td>Finished Airing</td>\n",
              "      <td>2009-4-5</td>\n",
              "      <td>2010-7-4</td>\n",
              "      <td>Spring</td>\n",
              "      <td>Sundays at 17:00 (JST)</td>\n",
              "      <td>Aniplex,Square Enix,Mainichi Broadcasting Syst...</td>\n",
              "      <td>Funimation,Aniplex of America</td>\n",
              "      <td>Bones</td>\n",
              "      <td>Manga</td>\n",
              "      <td>Action,Military,Adventure,Comedy,Drama,Magic,F...</td>\n",
              "      <td>24 min. per ep.</td>\n",
              "      <td>R</td>\n",
              "      <td>9.25</td>\n",
              "      <td>719706</td>\n",
              "      <td>1176368</td>\n",
              "      <td>105387</td>\n",
              "      <td>\"In order for something to be obtained, someth...</td>\n",
              "    </tr>\n",
              "    <tr>\n",
              "      <th>1</th>\n",
              "      <td>Kimi no Na wa.</td>\n",
              "      <td>Movie</td>\n",
              "      <td>1</td>\n",
              "      <td>Finished Airing</td>\n",
              "      <td>2016-8-26</td>\n",
              "      <td>-</td>\n",
              "      <td>-</td>\n",
              "      <td>-</td>\n",
              "      <td>Kadokawa Shoten,Toho,Sound Team Don Juan,Lawso...</td>\n",
              "      <td>Funimation,NYAV Post</td>\n",
              "      <td>CoMix Wave Films</td>\n",
              "      <td>Original</td>\n",
              "      <td>Supernatural,Drama,Romance,School</td>\n",
              "      <td>1 hr. 46 min.</td>\n",
              "      <td>PG-13</td>\n",
              "      <td>9.19</td>\n",
              "      <td>454969</td>\n",
              "      <td>705186</td>\n",
              "      <td>33936</td>\n",
              "      <td>Mitsuha Miyamizu, a high school girl, yearns t...</td>\n",
              "    </tr>\n",
              "    <tr>\n",
              "      <th>2</th>\n",
              "      <td>Gintama°</td>\n",
              "      <td>TV</td>\n",
              "      <td>51</td>\n",
              "      <td>Finished Airing</td>\n",
              "      <td>2015-4-8</td>\n",
              "      <td>2016-3-30</td>\n",
              "      <td>Spring</td>\n",
              "      <td>Wednesdays at 18:00 (JST)</td>\n",
              "      <td>TV Tokyo,Aniplex,Dentsu</td>\n",
              "      <td>Funimation,Crunchyroll</td>\n",
              "      <td>Bandai Namco Pictures</td>\n",
              "      <td>Manga</td>\n",
              "      <td>Action,Comedy,Historical,Parody,Samurai,Sci-Fi...</td>\n",
              "      <td>24 min. per ep.</td>\n",
              "      <td>R</td>\n",
              "      <td>9.16</td>\n",
              "      <td>70279</td>\n",
              "      <td>194359</td>\n",
              "      <td>5597</td>\n",
              "      <td>Gintoki, Shinpachi, and Kagura return as the f...</td>\n",
              "    </tr>\n",
              "    <tr>\n",
              "      <th>3</th>\n",
              "      <td>Steins;Gate 0</td>\n",
              "      <td>TV</td>\n",
              "      <td>23</td>\n",
              "      <td>Currently Airing</td>\n",
              "      <td>2018-4-12</td>\n",
              "      <td>-</td>\n",
              "      <td>Spring</td>\n",
              "      <td>Thursdays at 01:35 (JST)</td>\n",
              "      <td>Nitroplus</td>\n",
              "      <td>Funimation</td>\n",
              "      <td>White Fox</td>\n",
              "      <td>Visual novel</td>\n",
              "      <td>Sci-Fi,Thriller</td>\n",
              "      <td>23 min. per ep.</td>\n",
              "      <td>PG-13</td>\n",
              "      <td>9.16</td>\n",
              "      <td>12609</td>\n",
              "      <td>186331</td>\n",
              "      <td>1117</td>\n",
              "      <td>The dark untold story of Steins;Gate that lead...</td>\n",
              "    </tr>\n",
              "    <tr>\n",
              "      <th>4</th>\n",
              "      <td>Steins;Gate</td>\n",
              "      <td>TV</td>\n",
              "      <td>24</td>\n",
              "      <td>Finished Airing</td>\n",
              "      <td>2011-4-6</td>\n",
              "      <td>2011-9-14</td>\n",
              "      <td>Spring</td>\n",
              "      <td>Wednesdays at 02:05 (JST)</td>\n",
              "      <td>Frontier Works,Media Factory,Movic,AT-X,Kadoka...</td>\n",
              "      <td>Funimation</td>\n",
              "      <td>White Fox</td>\n",
              "      <td>Visual novel</td>\n",
              "      <td>Sci-Fi,Thriller</td>\n",
              "      <td>24 min. per ep.</td>\n",
              "      <td>PG-13</td>\n",
              "      <td>9.14</td>\n",
              "      <td>552791</td>\n",
              "      <td>990419</td>\n",
              "      <td>90365</td>\n",
              "      <td>The self-proclaimed mad scientist Rintarou Oka...</td>\n",
              "    </tr>\n",
              "  </tbody>\n",
              "</table>\n",
              "</div>\n",
              "      <button class=\"colab-df-convert\" onclick=\"convertToInteractive('df-2ca9af64-4e43-4849-ac0f-0c02bf0c8dd8')\"\n",
              "              title=\"Convert this dataframe to an interactive table.\"\n",
              "              style=\"display:none;\">\n",
              "        \n",
              "  <svg xmlns=\"http://www.w3.org/2000/svg\" height=\"24px\"viewBox=\"0 0 24 24\"\n",
              "       width=\"24px\">\n",
              "    <path d=\"M0 0h24v24H0V0z\" fill=\"none\"/>\n",
              "    <path d=\"M18.56 5.44l.94 2.06.94-2.06 2.06-.94-2.06-.94-.94-2.06-.94 2.06-2.06.94zm-11 1L8.5 8.5l.94-2.06 2.06-.94-2.06-.94L8.5 2.5l-.94 2.06-2.06.94zm10 10l.94 2.06.94-2.06 2.06-.94-2.06-.94-.94-2.06-.94 2.06-2.06.94z\"/><path d=\"M17.41 7.96l-1.37-1.37c-.4-.4-.92-.59-1.43-.59-.52 0-1.04.2-1.43.59L10.3 9.45l-7.72 7.72c-.78.78-.78 2.05 0 2.83L4 21.41c.39.39.9.59 1.41.59.51 0 1.02-.2 1.41-.59l7.78-7.78 2.81-2.81c.8-.78.8-2.07 0-2.86zM5.41 20L4 18.59l7.72-7.72 1.47 1.35L5.41 20z\"/>\n",
              "  </svg>\n",
              "      </button>\n",
              "      \n",
              "  <style>\n",
              "    .colab-df-container {\n",
              "      display:flex;\n",
              "      flex-wrap:wrap;\n",
              "      gap: 12px;\n",
              "    }\n",
              "\n",
              "    .colab-df-convert {\n",
              "      background-color: #E8F0FE;\n",
              "      border: none;\n",
              "      border-radius: 50%;\n",
              "      cursor: pointer;\n",
              "      display: none;\n",
              "      fill: #1967D2;\n",
              "      height: 32px;\n",
              "      padding: 0 0 0 0;\n",
              "      width: 32px;\n",
              "    }\n",
              "\n",
              "    .colab-df-convert:hover {\n",
              "      background-color: #E2EBFA;\n",
              "      box-shadow: 0px 1px 2px rgba(60, 64, 67, 0.3), 0px 1px 3px 1px rgba(60, 64, 67, 0.15);\n",
              "      fill: #174EA6;\n",
              "    }\n",
              "\n",
              "    [theme=dark] .colab-df-convert {\n",
              "      background-color: #3B4455;\n",
              "      fill: #D2E3FC;\n",
              "    }\n",
              "\n",
              "    [theme=dark] .colab-df-convert:hover {\n",
              "      background-color: #434B5C;\n",
              "      box-shadow: 0px 1px 3px 1px rgba(0, 0, 0, 0.15);\n",
              "      filter: drop-shadow(0px 1px 2px rgba(0, 0, 0, 0.3));\n",
              "      fill: #FFFFFF;\n",
              "    }\n",
              "  </style>\n",
              "\n",
              "      <script>\n",
              "        const buttonEl =\n",
              "          document.querySelector('#df-2ca9af64-4e43-4849-ac0f-0c02bf0c8dd8 button.colab-df-convert');\n",
              "        buttonEl.style.display =\n",
              "          google.colab.kernel.accessAllowed ? 'block' : 'none';\n",
              "\n",
              "        async function convertToInteractive(key) {\n",
              "          const element = document.querySelector('#df-2ca9af64-4e43-4849-ac0f-0c02bf0c8dd8');\n",
              "          const dataTable =\n",
              "            await google.colab.kernel.invokeFunction('convertToInteractive',\n",
              "                                                     [key], {});\n",
              "          if (!dataTable) return;\n",
              "\n",
              "          const docLinkHtml = 'Like what you see? Visit the ' +\n",
              "            '<a target=\"_blank\" href=https://colab.research.google.com/notebooks/data_table.ipynb>data table notebook</a>'\n",
              "            + ' to learn more about interactive tables.';\n",
              "          element.innerHTML = '';\n",
              "          dataTable['output_type'] = 'display_data';\n",
              "          await google.colab.output.renderOutput(dataTable, element);\n",
              "          const docLink = document.createElement('div');\n",
              "          docLink.innerHTML = docLinkHtml;\n",
              "          element.appendChild(docLink);\n",
              "        }\n",
              "      </script>\n",
              "    </div>\n",
              "  </div>\n",
              "  "
            ]
          },
          "metadata": {},
          "execution_count": 4
        }
      ]
    },
    {
      "cell_type": "code",
      "source": [
        "df.describe()"
      ],
      "metadata": {
        "colab": {
          "base_uri": "https://localhost:8080/",
          "height": 300
        },
        "id": "kzAeKAPtcBWO",
        "outputId": "5a7c8907-193e-4166-98b2-86acc7dec43b"
      },
      "execution_count": 5,
      "outputs": [
        {
          "output_type": "execute_result",
          "data": {
            "text/plain": [
              "             Score      Scored by       Members     Favorites\n",
              "count  1563.000000    1563.000000  1.563000e+03    1563.00000\n",
              "mean      7.905144   60537.209213  1.153567e+05    2309.15483\n",
              "std       0.340127   99856.869169  1.669685e+05    7358.06195\n",
              "min       7.480000     144.000000  7.810000e+02       1.00000\n",
              "25%       7.630000    6876.000000  1.738050e+04      54.00000\n",
              "50%       7.820000   24730.000000  5.209700e+04     264.00000\n",
              "75%       8.110000   68933.500000  1.367520e+05    1273.00000\n",
              "max       9.250000  993775.000000  1.432871e+06  105387.00000"
            ],
            "text/html": [
              "\n",
              "  <div id=\"df-f85b8093-723b-48d5-a693-2cac0ea021c9\">\n",
              "    <div class=\"colab-df-container\">\n",
              "      <div>\n",
              "<style scoped>\n",
              "    .dataframe tbody tr th:only-of-type {\n",
              "        vertical-align: middle;\n",
              "    }\n",
              "\n",
              "    .dataframe tbody tr th {\n",
              "        vertical-align: top;\n",
              "    }\n",
              "\n",
              "    .dataframe thead th {\n",
              "        text-align: right;\n",
              "    }\n",
              "</style>\n",
              "<table border=\"1\" class=\"dataframe\">\n",
              "  <thead>\n",
              "    <tr style=\"text-align: right;\">\n",
              "      <th></th>\n",
              "      <th>Score</th>\n",
              "      <th>Scored by</th>\n",
              "      <th>Members</th>\n",
              "      <th>Favorites</th>\n",
              "    </tr>\n",
              "  </thead>\n",
              "  <tbody>\n",
              "    <tr>\n",
              "      <th>count</th>\n",
              "      <td>1563.000000</td>\n",
              "      <td>1563.000000</td>\n",
              "      <td>1.563000e+03</td>\n",
              "      <td>1563.00000</td>\n",
              "    </tr>\n",
              "    <tr>\n",
              "      <th>mean</th>\n",
              "      <td>7.905144</td>\n",
              "      <td>60537.209213</td>\n",
              "      <td>1.153567e+05</td>\n",
              "      <td>2309.15483</td>\n",
              "    </tr>\n",
              "    <tr>\n",
              "      <th>std</th>\n",
              "      <td>0.340127</td>\n",
              "      <td>99856.869169</td>\n",
              "      <td>1.669685e+05</td>\n",
              "      <td>7358.06195</td>\n",
              "    </tr>\n",
              "    <tr>\n",
              "      <th>min</th>\n",
              "      <td>7.480000</td>\n",
              "      <td>144.000000</td>\n",
              "      <td>7.810000e+02</td>\n",
              "      <td>1.00000</td>\n",
              "    </tr>\n",
              "    <tr>\n",
              "      <th>25%</th>\n",
              "      <td>7.630000</td>\n",
              "      <td>6876.000000</td>\n",
              "      <td>1.738050e+04</td>\n",
              "      <td>54.00000</td>\n",
              "    </tr>\n",
              "    <tr>\n",
              "      <th>50%</th>\n",
              "      <td>7.820000</td>\n",
              "      <td>24730.000000</td>\n",
              "      <td>5.209700e+04</td>\n",
              "      <td>264.00000</td>\n",
              "    </tr>\n",
              "    <tr>\n",
              "      <th>75%</th>\n",
              "      <td>8.110000</td>\n",
              "      <td>68933.500000</td>\n",
              "      <td>1.367520e+05</td>\n",
              "      <td>1273.00000</td>\n",
              "    </tr>\n",
              "    <tr>\n",
              "      <th>max</th>\n",
              "      <td>9.250000</td>\n",
              "      <td>993775.000000</td>\n",
              "      <td>1.432871e+06</td>\n",
              "      <td>105387.00000</td>\n",
              "    </tr>\n",
              "  </tbody>\n",
              "</table>\n",
              "</div>\n",
              "      <button class=\"colab-df-convert\" onclick=\"convertToInteractive('df-f85b8093-723b-48d5-a693-2cac0ea021c9')\"\n",
              "              title=\"Convert this dataframe to an interactive table.\"\n",
              "              style=\"display:none;\">\n",
              "        \n",
              "  <svg xmlns=\"http://www.w3.org/2000/svg\" height=\"24px\"viewBox=\"0 0 24 24\"\n",
              "       width=\"24px\">\n",
              "    <path d=\"M0 0h24v24H0V0z\" fill=\"none\"/>\n",
              "    <path d=\"M18.56 5.44l.94 2.06.94-2.06 2.06-.94-2.06-.94-.94-2.06-.94 2.06-2.06.94zm-11 1L8.5 8.5l.94-2.06 2.06-.94-2.06-.94L8.5 2.5l-.94 2.06-2.06.94zm10 10l.94 2.06.94-2.06 2.06-.94-2.06-.94-.94-2.06-.94 2.06-2.06.94z\"/><path d=\"M17.41 7.96l-1.37-1.37c-.4-.4-.92-.59-1.43-.59-.52 0-1.04.2-1.43.59L10.3 9.45l-7.72 7.72c-.78.78-.78 2.05 0 2.83L4 21.41c.39.39.9.59 1.41.59.51 0 1.02-.2 1.41-.59l7.78-7.78 2.81-2.81c.8-.78.8-2.07 0-2.86zM5.41 20L4 18.59l7.72-7.72 1.47 1.35L5.41 20z\"/>\n",
              "  </svg>\n",
              "      </button>\n",
              "      \n",
              "  <style>\n",
              "    .colab-df-container {\n",
              "      display:flex;\n",
              "      flex-wrap:wrap;\n",
              "      gap: 12px;\n",
              "    }\n",
              "\n",
              "    .colab-df-convert {\n",
              "      background-color: #E8F0FE;\n",
              "      border: none;\n",
              "      border-radius: 50%;\n",
              "      cursor: pointer;\n",
              "      display: none;\n",
              "      fill: #1967D2;\n",
              "      height: 32px;\n",
              "      padding: 0 0 0 0;\n",
              "      width: 32px;\n",
              "    }\n",
              "\n",
              "    .colab-df-convert:hover {\n",
              "      background-color: #E2EBFA;\n",
              "      box-shadow: 0px 1px 2px rgba(60, 64, 67, 0.3), 0px 1px 3px 1px rgba(60, 64, 67, 0.15);\n",
              "      fill: #174EA6;\n",
              "    }\n",
              "\n",
              "    [theme=dark] .colab-df-convert {\n",
              "      background-color: #3B4455;\n",
              "      fill: #D2E3FC;\n",
              "    }\n",
              "\n",
              "    [theme=dark] .colab-df-convert:hover {\n",
              "      background-color: #434B5C;\n",
              "      box-shadow: 0px 1px 3px 1px rgba(0, 0, 0, 0.15);\n",
              "      filter: drop-shadow(0px 1px 2px rgba(0, 0, 0, 0.3));\n",
              "      fill: #FFFFFF;\n",
              "    }\n",
              "  </style>\n",
              "\n",
              "      <script>\n",
              "        const buttonEl =\n",
              "          document.querySelector('#df-f85b8093-723b-48d5-a693-2cac0ea021c9 button.colab-df-convert');\n",
              "        buttonEl.style.display =\n",
              "          google.colab.kernel.accessAllowed ? 'block' : 'none';\n",
              "\n",
              "        async function convertToInteractive(key) {\n",
              "          const element = document.querySelector('#df-f85b8093-723b-48d5-a693-2cac0ea021c9');\n",
              "          const dataTable =\n",
              "            await google.colab.kernel.invokeFunction('convertToInteractive',\n",
              "                                                     [key], {});\n",
              "          if (!dataTable) return;\n",
              "\n",
              "          const docLinkHtml = 'Like what you see? Visit the ' +\n",
              "            '<a target=\"_blank\" href=https://colab.research.google.com/notebooks/data_table.ipynb>data table notebook</a>'\n",
              "            + ' to learn more about interactive tables.';\n",
              "          element.innerHTML = '';\n",
              "          dataTable['output_type'] = 'display_data';\n",
              "          await google.colab.output.renderOutput(dataTable, element);\n",
              "          const docLink = document.createElement('div');\n",
              "          docLink.innerHTML = docLinkHtml;\n",
              "          element.appendChild(docLink);\n",
              "        }\n",
              "      </script>\n",
              "    </div>\n",
              "  </div>\n",
              "  "
            ]
          },
          "metadata": {},
          "execution_count": 5
        }
      ]
    },
    {
      "cell_type": "code",
      "source": [
        "df['Type'].value_counts().plot(kind='bar')"
      ],
      "metadata": {
        "colab": {
          "base_uri": "https://localhost:8080/",
          "height": 308
        },
        "id": "05NNThGCcDIY",
        "outputId": "4a195ef5-889f-461e-9674-4e187a146812"
      },
      "execution_count": 8,
      "outputs": [
        {
          "output_type": "execute_result",
          "data": {
            "text/plain": [
              "<matplotlib.axes._subplots.AxesSubplot at 0x7fa7b2a77b10>"
            ]
          },
          "metadata": {},
          "execution_count": 8
        },
        {
          "output_type": "display_data",
          "data": {
            "text/plain": [
              "<Figure size 432x288 with 1 Axes>"
            ],
            "image/png": "[encoded data removed]"
          },
          "metadata": {
            "needs_background": "light"
          }
        }
      ]
    },
    {
      "cell_type": "code",
      "source": [
        "rating_counts = df['Rating'].value_counts()\n",
        "rating_counts.plot(kind='bar')"
      ],
      "metadata": {
        "colab": {
          "base_uri": "https://localhost:8080/",
          "height": 302
        },
        "id": "zUiS4IEEcG7a",
        "outputId": "f889029d-f3a4-43fc-af85-ce4a95e1cec0"
      },
      "execution_count": 11,
      "outputs": [
        {
          "output_type": "execute_result",
          "data": {
            "text/plain": [
              "<matplotlib.axes._subplots.AxesSubplot at 0x7fa7b2457110>"
            ]
          },
          "metadata": {},
          "execution_count": 11
        },
        {
          "output_type": "display_data",
          "data": {
            "text/plain": [
              "<Figure size 432x288 with 1 Axes>"
            ],
            "image/png": "[encoded data removed]"
          },
          "metadata": {
            "needs_background": "light"
          }
        }
      ]
    },
    {
      "cell_type": "code",
      "source": [
        "df.dtypes"
      ],
      "metadata": {
        "colab": {
          "base_uri": "https://localhost:8080/"
        },
        "id": "ddQlVJIwcQhQ",
        "outputId": "3704713d-5cd7-4dbf-bde0-a2748a7e370b"
      },
      "execution_count": 12,
      "outputs": [
        {
          "output_type": "execute_result",
          "data": {
            "text/plain": [
              "Title               object\n",
              "Type                object\n",
              "Episodes            object\n",
              "Status              object\n",
              "Start airing        object\n",
              "End airing          object\n",
              "Starting season     object\n",
              "Broadcast time      object\n",
              "Producers           object\n",
              "Licensors           object\n",
              "Studios             object\n",
              "Sources             object\n",
              "Genres              object\n",
              "Duration            object\n",
              "Rating              object\n",
              "Score              float64\n",
              "Scored by            int64\n",
              "Members              int64\n",
              "Favorites            int64\n",
              "Description         object\n",
              "dtype: object"
            ]
          },
          "metadata": {},
          "execution_count": 12
        }
      ]
    },
    {
      "cell_type": "code",
      "source": [
        "df.groupby('Rating')['Score'].mean()"
      ],
      "metadata": {
        "colab": {
          "base_uri": "https://localhost:8080/"
        },
        "id": "oAOnO0k2cbrj",
        "outputId": "b4c50a69-0685-4144-b819-78556ce95a11"
      },
      "execution_count": 13,
      "outputs": [
        {
          "output_type": "execute_result",
          "data": {
            "text/plain": [
              "Rating\n",
              "G        7.825929\n",
              "None     7.816667\n",
              "PG       7.763500\n",
              "PG-13    7.910192\n",
              "R        7.953344\n",
              "Name: Score, dtype: float64"
            ]
          },
          "metadata": {},
          "execution_count": 13
        }
      ]
    },
    {
      "cell_type": "code",
      "source": [
        ""
      ],
      "metadata": {
        "id": "8piGAiAMciMP"
      },
      "execution_count": null,
      "outputs": []
    }
  ]
}