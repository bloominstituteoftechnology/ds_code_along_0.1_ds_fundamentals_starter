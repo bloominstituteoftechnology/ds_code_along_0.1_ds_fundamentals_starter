{
 "cells": [
  {
   "cell_type": "markdown",
   "id": "4153860d",
   "metadata": {},
   "source": [
    "# Tech Check Notebook\n",
    "___\n",
    "\n",
    "## You should be able to access this notebook on Google Colab with the  [Open in Colab extension](https://chrome.google.com/webstore/detail/open-in-colab/iogfkhleblhcpcekbiedikdehleodpjo?hl=en).\n",
    "\n",
    "Note: If you see an error when running the cell, please click **Run Anyway**, or open the notebook in a **Copy to Drive**\n"
   ]
  },
  {
   "cell_type": "markdown",
   "id": "8f657be4",
   "metadata": {},
   "source": [
    "---\n",
    "### Task 1: To retrieve the code,  import the Pandas library\n",
    "#### We cover how to import modules in the [\"How to Connect a Dataset\" lesson](https://bloomtech.test.instructure.com/courses/2546/pages/how-to-connect-a-dataset?module_item_id=671474)\n",
    "\n",
    "\n",
    "\n",
    "> ** Run your cells by clicking the button on the left side of the code cell, or by pressing Shift + Return on your keyboard.**"
   ]
  },
  {
   "cell_type": "code",
   "execution_count": 1,
   "id": "36079f49",
   "metadata": {},
   "outputs": [],
   "source": [
    "#import Pandas in this cell, remember to use the alias pd\n"
   ]
  },
  {
   "cell_type": "markdown",
   "id": "cd623627",
   "metadata": {},
   "source": [
    "---\n",
    "### Task 2: If Pandas was imported properly, the following cell will work and show your code for the Canvas Tech Check Quiz."
   ]
  },
  {
   "cell_type": "code",
   "execution_count": null,
   "id": "d162c1ad",
   "metadata": {},
   "outputs": [],
   "source": [
    "#test cell\n",
    "df = pd.read_csv('https://raw.githubusercontent.com/bloominstituteoftechnology/ds_code_along_0.1_ds_fundamentals_starter/main/tech_check/lost_code.csv')\n",
    "\n",
    "print(\"**********************************\");\n",
    "print(f\"Run the following code in Canvas: {df.loc[0][1]}\")\n",
    "print(\"**********************************\");"
   ]
  },
  {
   "cell_type": "markdown",
   "id": "445bd862",
   "metadata": {},
   "source": [
    "---\n",
    "### Task 3: Copy the code from Task 2, return to the Canvas Check for Understanding and paste the code in the answer box."
   ]
  },
  {
   "cell_type": "code",
   "execution_count": null,
   "id": "e4b7f7e3",
   "metadata": {},
   "outputs": [],
   "source": []
  }
 ],
 "metadata": {
  "kernelspec": {
   "display_name": "Python 3",
   "language": "python",
   "name": "python3"
  },
  "language_info": {
   "codemirror_mode": {
    "name": "ipython",
    "version": 3
   },
   "file_extension": ".py",
   "mimetype": "text/x-python",
   "name": "python",
   "nbconvert_exporter": "python",
   "pygments_lexer": "ipython3",
   "version": "3.8.8"
  }
 },
 "nbformat": 4,
 "nbformat_minor": 5
}
